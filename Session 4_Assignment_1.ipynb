{
 "cells": [
  {
   "cell_type": "code",
   "execution_count": 1,
   "metadata": {},
   "outputs": [],
   "source": [
    "#Task 1.1\n",
    "#Given a sequence of n values x1, x2, ..., xn and a window size k>0, the k-th moving average of the given sequence \n",
    "#is defined as follows: \n",
    "#The moving average sequence has n-k+1 elements as shown below.\n",
    "#The moving averages with k=4 of a ten-value sequence (n=10) is shown below\n",
    "#i 1 2 3 4 5 6 7 8 9 10\n",
    "#===== == == == == == == == == == ==\n",
    "#Input 10 20 30 40 50 60 70 80 90 100\n",
    "#y1 25 = (10+20+30+40)/4\n",
    "#y2 35 = (20+30+40+50)/4\n",
    "#y3 45 = (30+40+50+60)/4\n",
    "#y4 55 = (40+50+60+70)/4\n",
    "#y5 65 = (50+60+70+80)/4\n",
    "#y6 75 = (60+70+80+90)/4\n",
    "#y7 85 = (70+80+90+100)/4\n",
    "\n",
    "#Thus, the moving average sequence has n-k+1=10-4+1=7 values."
   ]
  },
  {
   "cell_type": "code",
   "execution_count": 2,
   "metadata": {},
   "outputs": [],
   "source": [
    "import numpy as np\n",
    "import matplotlib.pyplot as plt\n",
    "from numpy import convolve"
   ]
  },
  {
   "cell_type": "code",
   "execution_count": 3,
   "metadata": {},
   "outputs": [],
   "source": [
    "def movingaverage (val, window):\n",
    "    weights = np.repeat(1.0, window)/window\n",
    "    sma = np.convolve(val, weights, 'valid')\n",
    "    return sma"
   ]
  },
  {
   "cell_type": "code",
   "execution_count": 4,
   "metadata": {},
   "outputs": [
    {
     "name": "stdout",
     "output_type": "stream",
     "text": [
      "[  5.           4.66666667   5.66666667   6.66666667   9.66666667\n",
      "  28.66666667  49.33333333  72.66666667  84.          93.33333333\n",
      " 116.33333333]\n"
     ]
    }
   ],
   "source": [
    "y = [3, 5, 7, 2, 8, 10, 11, 65, 72, 81, 99, 100, 150]\n",
    "yMA = movingaverage(y,3)\n",
    "print (yMA)"
   ]
  },
  {
   "cell_type": "code",
   "execution_count": null,
   "metadata": {},
   "outputs": [],
   "source": [
    "# Task 2.1\n",
    "#Task 2:\n",
    "1.\n",
    "#How-to-count-distance-to-the-previous-zero\n",
    "#For each value, count the difference back to the previous zero (or the start of the Series, whichever is closer)\n",
    "#create a new column 'Y' ,Consider a DataFrame df where there is an integer column 'X'\n",
    "#import pandas as pd\n",
    "#df = pd.DataFrame({'X': [7, 2, 0, 3, 4, 2, 5, 0, 3, 4]})"
   ]
  },
  {
   "cell_type": "code",
   "execution_count": 6,
   "metadata": {},
   "outputs": [
    {
     "name": "stdout",
     "output_type": "stream",
     "text": [
      "   source  result\n",
      "0       7       1\n",
      "1       2       2\n",
      "2       0       0\n",
      "3       3       1\n",
      "4       4       2\n",
      "5       2       3\n",
      "6       5       4\n",
      "7       0       0\n",
      "8       3       1\n",
      "9       4       2\n"
     ]
    }
   ],
   "source": [
    "import pandas as pd\n",
    "X = [7, 2, 0, 3, 4, 2, 5, 0, 3, 4]\n",
    "i = 0\n",
    "r = []\n",
    "\n",
    "for num in X:\n",
    "    if num != 0:\n",
    "        i += 1\n",
    "    else:\n",
    "        i = 0\n",
    "    r.append(i)\n",
    "    \n",
    "    \n",
    "result_df = pd.DataFrame({\"source\":X,\"result\":r})\n",
    "\n",
    "print(result_df)"
   ]
  },
  {
   "cell_type": "code",
   "execution_count": null,
   "metadata": {},
   "outputs": [],
   "source": [
    "#Task2.2\n",
    "#Create a DatetimeIndex that contains each business day of 2015 and use it to index a Series of random numbers."
   ]
  },
  {
   "cell_type": "code",
   "execution_count": 7,
   "metadata": {},
   "outputs": [
    {
     "name": "stdout",
     "output_type": "stream",
     "text": [
      "2015-01-01    0.303235\n",
      "2015-01-02    0.521929\n",
      "2015-01-03    0.385293\n",
      "2015-01-04    0.122524\n",
      "2015-01-05    0.635115\n",
      "2015-01-06    0.529064\n",
      "2015-01-07    0.036604\n",
      "2015-01-08    0.860289\n",
      "2015-01-09    0.501603\n",
      "2015-01-10    0.898288\n",
      "2015-01-11    0.774618\n",
      "2015-01-12    0.231626\n",
      "2015-01-13    0.556649\n",
      "2015-01-14    0.201943\n",
      "2015-01-15    0.670436\n",
      "2015-01-16    0.579165\n",
      "2015-01-17    0.744515\n",
      "2015-01-18    0.838181\n",
      "2015-01-19    0.035382\n",
      "2015-01-20    0.341259\n",
      "2015-01-21    0.206632\n",
      "2015-01-22    0.267572\n",
      "2015-01-23    0.069975\n",
      "2015-01-24    0.167424\n",
      "2015-01-25    0.155428\n",
      "2015-01-26    0.499335\n",
      "2015-01-27    0.374289\n",
      "2015-01-28    0.251434\n",
      "2015-01-29    0.428213\n",
      "2015-01-30    0.477593\n",
      "                ...   \n",
      "2015-12-02    0.714179\n",
      "2015-12-03    0.553622\n",
      "2015-12-04    0.567514\n",
      "2015-12-05    0.889493\n",
      "2015-12-06    0.875363\n",
      "2015-12-07    0.673332\n",
      "2015-12-08    0.732663\n",
      "2015-12-09    0.411938\n",
      "2015-12-10    0.677967\n",
      "2015-12-11    0.263519\n",
      "2015-12-12    0.563966\n",
      "2015-12-13    0.735507\n",
      "2015-12-14    0.119464\n",
      "2015-12-15    0.749457\n",
      "2015-12-16    0.009093\n",
      "2015-12-17    0.046259\n",
      "2015-12-18    0.811770\n",
      "2015-12-19    0.462240\n",
      "2015-12-20    0.511367\n",
      "2015-12-21    0.415537\n",
      "2015-12-22    0.164565\n",
      "2015-12-23    0.395677\n",
      "2015-12-24    0.577257\n",
      "2015-12-25    0.621234\n",
      "2015-12-26    0.457084\n",
      "2015-12-27    0.876499\n",
      "2015-12-28    0.038579\n",
      "2015-12-29    0.770214\n",
      "2015-12-30    0.330763\n",
      "2015-12-31    0.265772\n",
      "Freq: D, Length: 365, dtype: float64\n"
     ]
    }
   ],
   "source": [
    "dti  =  pd.date_range(start='2015-01-01', end='2015-12-31', freq='D') \n",
    "s = pd.Series(np.random.rand(len(dti)), index=dti)\n",
    "print(s)"
   ]
  },
  {
   "cell_type": "code",
   "execution_count": null,
   "metadata": {},
   "outputs": [],
   "source": [
    "#Task 2.3 \n",
    "#Find the sum of the values in s for every Wednesday"
   ]
  },
  {
   "cell_type": "code",
   "execution_count": 8,
   "metadata": {},
   "outputs": [
    {
     "data": {
      "text/plain": [
       "23.472967150737944"
      ]
     },
     "execution_count": 8,
     "metadata": {},
     "output_type": "execute_result"
    }
   ],
   "source": [
    "s[s.index.weekday == 2].sum()"
   ]
  },
  {
   "cell_type": "code",
   "execution_count": 9,
   "metadata": {},
   "outputs": [
    {
     "data": {
      "text/plain": [
       "2015-01-31    0.414880\n",
       "2015-02-28    0.508520\n",
       "2015-03-31    0.508744\n",
       "2015-04-30    0.634916\n",
       "2015-05-31    0.435894\n",
       "2015-06-30    0.520875\n",
       "2015-07-31    0.450980\n",
       "2015-08-31    0.450627\n",
       "2015-09-30    0.480130\n",
       "2015-10-31    0.546321\n",
       "2015-11-30    0.494501\n",
       "2015-12-31    0.517983\n",
       "Freq: M, dtype: float64"
      ]
     },
     "execution_count": 9,
     "metadata": {},
     "output_type": "execute_result"
    }
   ],
   "source": [
    "s.resample('M').mean() # Average For each calendar month"
   ]
  },
  {
   "cell_type": "code",
   "execution_count": 10,
   "metadata": {},
   "outputs": [
    {
     "name": "stderr",
     "output_type": "stream",
     "text": [
      "C:\\Users\\Praveen Kanakala\\Anaconda3\\lib\\site-packages\\ipykernel_launcher.py:1: FutureWarning: pd.TimeGrouper is deprecated and will be removed; Please use pd.Grouper(freq=...)\n",
      "  \"\"\"Entry point for launching an IPython kernel.\n"
     ]
    },
    {
     "data": {
      "text/plain": [
       "2015-01-31   2015-01-10\n",
       "2015-05-31   2015-03-20\n",
       "2015-09-30   2015-08-25\n",
       "2016-01-31   2015-10-05\n",
       "dtype: datetime64[ns]"
      ]
     },
     "execution_count": 10,
     "metadata": {},
     "output_type": "execute_result"
    }
   ],
   "source": [
    "#For each group of four consecutive calendar months in s, find the date on which the highest value occurred.\n",
    "s.groupby(pd.TimeGrouper('4M')).idxmax()"
   ]
  },
  {
   "cell_type": "code",
   "execution_count": null,
   "metadata": {},
   "outputs": [],
   "source": []
  }
 ],
 "metadata": {
  "kernelspec": {
   "display_name": "Python 3",
   "language": "python",
   "name": "python3"
  },
  "language_info": {
   "codemirror_mode": {
    "name": "ipython",
    "version": 3
   },
   "file_extension": ".py",
   "mimetype": "text/x-python",
   "name": "python",
   "nbconvert_exporter": "python",
   "pygments_lexer": "ipython3",
   "version": "3.6.5"
  }
 },
 "nbformat": 4,
 "nbformat_minor": 2
}
